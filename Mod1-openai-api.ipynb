{
 "cells": [
  {
   "cell_type": "markdown",
   "metadata": {},
   "source": [
    "## OpenAI API Walkthrough\n",
    "\n",
    "Content:\n",
    "- Create & import OpenAI API Key\n",
    "- The simplest version\n",
    "- Explaining roles\n",
    "- Explaining temperature\n",
    "- Project: Build your ChatGPT Clone or Build a simple GPT-3.5 powered Chatbot\n",
    "\n",
    "**Braindumps**\n",
    "- \n",
    "\n",
    "Why "
   ]
  },
  {
   "cell_type": "code",
   "execution_count": 4,
   "metadata": {},
   "outputs": [
    {
     "data": {
      "text/plain": [
       "True"
      ]
     },
     "execution_count": 4,
     "metadata": {},
     "output_type": "execute_result"
    }
   ],
   "source": [
    "from dotenv import load_dotenv\n",
    "\n",
    "load_dotenv()"
   ]
  },
  {
   "cell_type": "code",
   "execution_count": 5,
   "metadata": {},
   "outputs": [],
   "source": [
    "import os\n",
    "import openai\n",
    "\n",
    "openai.api_key = os.environ['OPENAI_API_KEY']"
   ]
  },
  {
   "cell_type": "code",
   "execution_count": 6,
   "metadata": {},
   "outputs": [],
   "source": [
    "def get_chat_response(prompt):\n",
    "    completion = openai.ChatCompletion.create(\n",
    "        model=\"gpt-3.5-turbo\",\n",
    "        messages=[\n",
    "            {\"role\": \"user\", \"content\": prompt}\n",
    "        ]\n",
    "    )\n",
    "    chat_response = completion.choices[0].message.content\n",
    "    return chat_response"
   ]
  },
  {
   "cell_type": "code",
   "execution_count": 7,
   "metadata": {},
   "outputs": [
    {
     "name": "stdout",
     "output_type": "stream",
     "text": [
      "Did you know that honey never spoils? Archaeologists have found pots of honey in ancient Egyptian tombs that are over 3,000 years old and still perfectly edible!\n"
     ]
    }
   ],
   "source": [
    "print(get_chat_response(\"Tell me a fun fact\"))"
   ]
  },
  {
   "cell_type": "markdown",
   "metadata": {},
   "source": [
    "### The \"Role\" Parameter\n",
    "\n",
    "<image src=\"./images/Roles.png\" alt=\"Roles in LLMs\" width=\"500\" />\n",
    "\n",
    "We can specify 3 types of roles:\n",
    "1. System - Setting the behavior.\n",
    "2. User - You\n",
    "3. Assistant - Chat Model\n",
    "\n",
    "*Ideas*:\n",
    "- Create 2 functions with different system messages and then pass identical prompts to them to show differences.\n",
    "- "
   ]
  },
  {
   "cell_type": "code",
   "execution_count": 9,
   "metadata": {},
   "outputs": [],
   "source": [
    "### Example with the System role\n",
    "\n",
    "def get_polish_response(prompt):\n",
    "    completion = openai.ChatCompletion.create(\n",
    "        model=\"gpt-3.5-turbo\",\n",
    "        messages=[\n",
    "            {\"role\": \"system\", \"content\": \"You are a friendy assistant that speaks only Polish\"},\n",
    "            {\"role\": \"user\", \"content\": prompt}\n",
    "        ]\n",
    "    )\n",
    "    return completion.choices[0].message.content"
   ]
  },
  {
   "cell_type": "code",
   "execution_count": 10,
   "metadata": {},
   "outputs": [
    {
     "name": "stdout",
     "output_type": "stream",
     "text": [
      "Oto zabawny fakt: W Polsce jest największa na świecie liczba jezior sztucznych! W całym kraju jest ponad 9 000 takich jezior, co sprawia, że Polska jest prawdziwym rajem dla miłośników wodnych atrakcji i sportów.\n"
     ]
    }
   ],
   "source": [
    "print(get_polish_response(\"Tell me a fun fact\"))"
   ]
  },
  {
   "cell_type": "markdown",
   "metadata": {},
   "source": [
    "### The \"Temperature\" Parameter\n",
    "\n",
    "<image src=\"./images/Temperature.png\" alt=\"Temperature in LLMs\" width=\"500\" />\n",
    "\n",
    "The temperature sets the tradeoff between predictibility and creativity of the model's responses.\n",
    "\n",
    "The lower the temperature, the more predictable and reasonable response.\n",
    "\n",
    "The higher the tempreture, the more creative the model gets. But it may generate nonsense and it increases hallucinations."
   ]
  },
  {
   "cell_type": "code",
   "execution_count": 16,
   "metadata": {},
   "outputs": [],
   "source": [
    "def get_predictible_response(prompt):\n",
    "    completion = openai.ChatCompletion.create(\n",
    "        model=\"gpt-3.5-turbo\",\n",
    "        temperature=0, # set the temperature\n",
    "        messages=[\n",
    "            {\"role\": \"user\", \"content\": prompt}\n",
    "        ]\n",
    "    )\n",
    "    chat_response = completion.choices[0].message.content\n",
    "    return chat_response"
   ]
  },
  {
   "cell_type": "code",
   "execution_count": 12,
   "metadata": {},
   "outputs": [
    {
     "name": "stdout",
     "output_type": "stream",
     "text": [
      "A fun fact is that honey never spoils. Archaeologists have found pots of honey in ancient Egyptian tombs that are over 3,000 years old and still perfectly edible!\n"
     ]
    }
   ],
   "source": [
    "# always the same\n",
    "print(get_predictible_response(\"Tell me a fun fact\"))"
   ]
  },
  {
   "cell_type": "code",
   "execution_count": 15,
   "metadata": {},
   "outputs": [
    {
     "name": "stdout",
     "output_type": "stream",
     "text": [
      "A fun fact is that humans aren't the only living organisms that can speak or communicate. Parrots, for example, are known for their ability to mimic and even learn human speech.\n"
     ]
    }
   ],
   "source": [
    "\n",
    "print(get_chat_response(\"Tell me a fun fact\"))"
   ]
  },
  {
   "cell_type": "markdown",
   "metadata": {},
   "source": [
    "### Useful Resources:\n",
    "\n",
    "1. [OpenAI API Reference](/home/kris/dev/llmzoomcamp/Mod1-openai-api.ipynb)\n",
    "2. [OpenAI Playgound](https://platform.openai.com/playground/)\n",
    "3. [ChatGPT Prompt Engineering for Developers](https://learn.deeplearning.ai/chatgpt-prompt-eng/) It's the source of most images used in the notebook.\n",
    "4. "
   ]
  },
  {
   "cell_type": "markdown",
   "metadata": {},
   "source": []
  }
 ],
 "metadata": {
  "kernelspec": {
   "display_name": "langchain",
   "language": "python",
   "name": "python3"
  },
  "language_info": {
   "codemirror_mode": {
    "name": "ipython",
    "version": 3
   },
   "file_extension": ".py",
   "mimetype": "text/x-python",
   "name": "python",
   "nbconvert_exporter": "python",
   "pygments_lexer": "ipython3",
   "version": "3.9.18"
  }
 },
 "nbformat": 4,
 "nbformat_minor": 2
}
